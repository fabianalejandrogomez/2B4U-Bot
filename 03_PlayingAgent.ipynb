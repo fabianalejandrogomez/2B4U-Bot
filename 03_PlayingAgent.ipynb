{
  "cells": [
    {
      "metadata": {},
      "cell_type": "markdown",
      "source": "The OpenAI Gym (https://gym.openai.com) provides us with a lot of different examples and games in which to train a learning agent. The task is to develop one of such agents. We will create a neural network that, given the state of the game (actually, two consecutive states), it outputs a family of quality values (Q-values) for each next possible move. The move with higher Q-value is chosen and performed in the game. This theoretical formalism was taken from https://www.nervanasys.com/demystifying-deep-reinforcement-learning/"
    },
    {
      "metadata": {
        "trusted": true
      },
      "cell_type": "code",
      "source": "# INITIALIZATION: libraries, parameters, network...\n\nfrom keras.models import Sequential      # One layer after the other\nfrom keras.layers import Dense, Flatten  # Dense layers are fully connected layers, Flatten layers flatten out multidimensional inputs\nfrom collections import deque            # For storing moves \n\nimport numpy as np\nimport gym                                # To train our network\nenv = gym.make('MountainCar-v0')          # Choose game (any in the gym should work)\n\nimport random     # For sampling batches from the observations\n\n\n# Create network. Input is two consecutive game states, output is Q-values of the possible moves.\nmodel = Sequential()\nmodel.add(Dense(20, input_shape=(2,) + env.observation_space.shape, init='uniform', activation='relu'))\nmodel.add(Flatten())       # Flatten input so as to have no problems with processing\nmodel.add(Dense(18, init='uniform', activation='relu'))\nmodel.add(Dense(10, init='uniform', activation='relu'))\nmodel.add(Dense(env.action_space.n, init='uniform', activation='linear'))    # Same number of outputs as possible actions\n\nmodel.compile(loss='mse', optimizer='adam', metrics=['accuracy'])\n\n# Parameters\nD = deque()                                # Register where the actions will be stored\n\nobservetime = 500                          # Number of timesteps we will be acting on the game and observing results\nepsilon = 0.7                              # Probability of doing a random move\ngamma = 0.9                                # Discounted future reward. How much we care about steps further in time\nmb_size = 50                               # Learning minibatch size",
      "execution_count": 2,
      "outputs": [
        {
          "output_type": "error",
          "ename": "ImportError",
          "evalue": "No module named gym",
          "traceback": [
            "\u001b[0;31m\u001b[0m",
            "\u001b[0;31mImportError\u001b[0mTraceback (most recent call last)",
            "\u001b[0;32m<ipython-input-2-53b8342ba9ae>\u001b[0m in \u001b[0;36m<module>\u001b[0;34m()\u001b[0m\n\u001b[1;32m      6\u001b[0m \u001b[0;34m\u001b[0m\u001b[0m\n\u001b[1;32m      7\u001b[0m \u001b[0;32mimport\u001b[0m \u001b[0mnumpy\u001b[0m \u001b[0;32mas\u001b[0m \u001b[0mnp\u001b[0m\u001b[0;34m\u001b[0m\u001b[0m\n\u001b[0;32m----> 8\u001b[0;31m \u001b[0;32mimport\u001b[0m \u001b[0mgym\u001b[0m                                \u001b[0;31m# To train our network\u001b[0m\u001b[0;34m\u001b[0m\u001b[0m\n\u001b[0m\u001b[1;32m      9\u001b[0m \u001b[0menv\u001b[0m \u001b[0;34m=\u001b[0m \u001b[0mgym\u001b[0m\u001b[0;34m.\u001b[0m\u001b[0mmake\u001b[0m\u001b[0;34m(\u001b[0m\u001b[0;34m'MountainCar-v0'\u001b[0m\u001b[0;34m)\u001b[0m          \u001b[0;31m# Choose game (any in the gym should work)\u001b[0m\u001b[0;34m\u001b[0m\u001b[0m\n\u001b[1;32m     10\u001b[0m \u001b[0;34m\u001b[0m\u001b[0m\n",
            "\u001b[0;31mImportError\u001b[0m: No module named gym"
          ]
        }
      ]
    },
    {
      "metadata": {
        "trusted": true
      },
      "cell_type": "code",
      "source": "# FIRST STEP: Knowing what each action does (Observing)\n\nobservation = env.reset()                     # Game begins\nobs = np.expand_dims(observation, axis=0)     # (Formatting issues) Making the observation the first element of a batch of inputs \nstate = np.stack((obs, obs), axis=1)\ndone = False\nfor t in range(observetime):\n    if np.random.rand() <= epsilon:\n        action = np.random.randint(0, env.action_space.n, size=1)[0]\n    else:\n        Q = model.predict(state)          # Q-values predictions\n        action = np.argmax(Q)             # Move with highest Q-value is the chosen one\n    observation_new, reward, done, info = env.step(action)     # See state of the game, reward... after performing the action\n    obs_new = np.expand_dims(observation_new, axis=0)          # (Formatting issues)\n    state_new = np.append(np.expand_dims(obs_new, axis=0), state[:, :1, :], axis=1)     # Update the input with the new state of the game\n    D.append((state, action, reward, state_new, done))         # 'Remember' action and consequence\n    state = state_new         # Update state\n    if done:\n        env.reset()           # Restart game if it's finished\n        obs = np.expand_dims(observation, axis=0)     # (Formatting issues) Making the observation the first element of a batch of inputs \n        state = np.stack((obs, obs), axis=1)\nprint('Observing Finished')",
      "execution_count": null,
      "outputs": []
    },
    {
      "metadata": {
        "trusted": false
      },
      "cell_type": "code",
      "source": "# SECOND STEP: Learning from the observations (Experience replay)\n\nminibatch = random.sample(D, mb_size)                              # Sample some moves\n\ninputs_shape = (mb_size,) + state.shape[1:]\ninputs = np.zeros(inputs_shape)\ntargets = np.zeros((mb_size, env.action_space.n))\n\nfor i in range(0, mb_size):\n    state = minibatch[i][0]\n    action = minibatch[i][1]\n    reward = minibatch[i][2]\n    state_new = minibatch[i][3]\n    done = minibatch[i][4]\n    \n# Build Bellman equation for the Q function\n    inputs[i:i+1] = np.expand_dims(state, axis=0)\n    targets[i] = model.predict(state)\n    Q_sa = model.predict(state_new)\n    \n    if done:\n        targets[i, action] = reward\n    else:\n        targets[i, action] = reward + gamma * np.max(Q_sa)\n\n# Train network to output the Q function\n    model.train_on_batch(inputs, targets)\nprint('Learning Finished')",
      "execution_count": null,
      "outputs": []
    },
    {
      "metadata": {
        "trusted": false
      },
      "cell_type": "code",
      "source": "# THIRD STEP: Play!\n\nobservation = env.reset()\nobs = np.expand_dims(observation, axis=0)\nstate = np.stack((obs, obs), axis=1)\ndone = False\ntot_reward = 0.0\nwhile not done:\n    env.render()                    # Uncomment to see game running\n    Q = model.predict(state)        \n    action = np.argmax(Q)         \n    observation, reward, done, info = env.step(action)\n    obs = np.expand_dims(observation, axis=0)\n    state = np.append(np.expand_dims(obs, axis=0), state[:, :1, :], axis=1)    \n    tot_reward += reward\nprint('Game ended! Total reward: {}'.format(reward))",
      "execution_count": null,
      "outputs": []
    }
  ],
  "metadata": {
    "kernelspec": {
      "name": "python2",
      "display_name": "Python 2",
      "language": "python"
    }
  },
  "nbformat": 4,
  "nbformat_minor": 2
}